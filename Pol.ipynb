{
 "cells": [
  {
   "cell_type": "code",
   "execution_count": 79,
   "metadata": {
    "scrolled": true
   },
   "outputs": [],
   "source": [
    "import pandas as pd\n",
    "import numpy as np\n",
    "import statsmodels.formula.api as sm\n",
    "from sklearn.cross_validation import train_test_split\n",
    "from sklearn.preprocessing import StandardScaler\n",
    "from sklearn.model_selection import GridSearchCV\n",
    "from sklearn.linear_model import LogisticRegression\n",
    "from sklearn.tree import DecisionTreeClassifier\n",
    "from sklearn.svm import SVC\n",
    "from sklearn.naive_bayes import GaussianNB\n",
    "from sklearn.ensemble import RandomForestClassifier\n",
    "from sklearn.ensemble import VotingClassifier\n",
    "from sklearn.metrics import precision_recall_fscore_support as score\n",
    "from sklearn.metrics import confusion_matrix\n",
    "from sklearn.metrics import accuracy_score\n",
    "from sklearn.model_selection import cross_val_score\n",
    "from sklearn.preprocessing import LabelEncoder\n",
    "from sklearn.cross_validation import StratifiedShuffleSplit\n",
    "#train= pd.read_csv('C:/Users/Ajay/Desktop/fayaz/train1.csv')\n",
    "#test = pd.read_csv('C:/Users/Ajay/Desktop/fayaz/test1.csv')\n",
    "#x_be= dataset.iloc[:,:-1].values\n",
    "#y_be = dataset.iloc[:,2:192].values\n",
    "#Standardizing the dataset by scaling the features to unit variance and removing the mean\n",
    "#sk_x_be = StandardScaler()\n",
    "#x_be = sk_x_be.fit_transform(x_be)\n",
    "path='C:/Users/Ajay/Desktop/fayaz/train1.csv'\n",
    "MD = pd.read_csv(path)\n",
    "\n",
    "\n"
   ]
  },
  {
   "cell_type": "code",
   "execution_count": 80,
   "metadata": {},
   "outputs": [
    {
     "name": "stdout",
     "output_type": "stream",
     "text": [
      "     so2_Industrial  so2_Residential  SPM  NSM\n",
      "0                15                7  909  909\n",
      "1                 5               12  484  484\n",
      "2                15               12  114  114\n",
      "3                 4                4  169  169\n",
      "4                24                8  130  130\n",
      "5                 4                2  133  133\n",
      "6                14                4  160  160\n",
      "7                 2                4  440  440\n",
      "8                18                4  566  566\n",
      "9                 9                2  895  895\n",
      "10               10                4  909  909\n",
      "11               12                5  484  484\n",
      "12                5                4  114  114\n",
      "13                9                3  169  169\n",
      "14                9                2  130  130\n",
      "15                9                3  133  133\n",
      "16                9                6  160  160\n",
      "17                4                4  126  126\n",
      "18                9                4  309  309\n",
      "19                4                7  354  354\n",
      "20                9                3  459  459\n",
      "21                9                4  443  443\n",
      "22                9               23  366  366\n",
      "23                4               12  398  398\n",
      "24                5                4  434  434\n",
      "25                6                4  269  269\n",
      "26                2                2  252  252\n",
      "27                9                4  277  277\n",
      "28                2                2  393  393\n",
      "29                4                4  394  394\n",
      "..              ...              ...  ...  ...\n",
      "132               9                2  188  188\n",
      "133               6                7  397  397\n",
      "134               4                2  312  312\n",
      "135              21                2  396  396\n",
      "136               5                2  288  288\n",
      "137              11                4  589  589\n",
      "138               9                2  239  239\n",
      "139               9                2  391  391\n",
      "140               9                2  567  567\n",
      "141               4                3  736  736\n",
      "142              22                2  445  445\n",
      "143               6                2  360  360\n",
      "144               5                4  518  518\n",
      "145               4               11  285  285\n",
      "146               2                4  556  556\n",
      "147               2                3  379  379\n",
      "148               2                3  484  484\n",
      "149               9                3  620  620\n",
      "150               2                2  510  510\n",
      "151               3                3  354  354\n",
      "152               9                2  586  586\n",
      "153               9                4  196  196\n",
      "154               9                2  553  553\n",
      "155               5                2  684  684\n",
      "156              18                2  585  585\n",
      "157               5                4  262  262\n",
      "158               5                4  232  232\n",
      "159               5                4  384  384\n",
      "160               4                4  263  263\n",
      "161               9                4  365  365\n",
      "\n",
      "[162 rows x 4 columns]\n",
      "     so2_Residential\n",
      "0                  7\n",
      "1                 12\n",
      "2                 12\n",
      "3                  4\n",
      "4                  8\n",
      "5                  2\n",
      "6                  4\n",
      "7                  4\n",
      "8                  4\n",
      "9                  2\n",
      "10                 4\n",
      "11                 5\n",
      "12                 4\n",
      "13                 3\n",
      "14                 2\n",
      "15                 3\n",
      "16                 6\n",
      "17                 4\n",
      "18                 4\n",
      "19                 7\n",
      "20                 3\n",
      "21                 4\n",
      "22                23\n",
      "23                12\n",
      "24                 4\n",
      "25                 4\n",
      "26                 2\n",
      "27                 4\n",
      "28                 2\n",
      "29                 4\n",
      "..               ...\n",
      "132                2\n",
      "133                7\n",
      "134                2\n",
      "135                2\n",
      "136                2\n",
      "137                4\n",
      "138                2\n",
      "139                2\n",
      "140                2\n",
      "141                3\n",
      "142                2\n",
      "143                2\n",
      "144                4\n",
      "145               11\n",
      "146                4\n",
      "147                3\n",
      "148                3\n",
      "149                3\n",
      "150                2\n",
      "151                3\n",
      "152                2\n",
      "153                4\n",
      "154                2\n",
      "155                2\n",
      "156                2\n",
      "157                4\n",
      "158                4\n",
      "159                4\n",
      "160                4\n",
      "161                4\n",
      "\n",
      "[162 rows x 1 columns]\n"
     ]
    }
   ],
   "source": [
    "train = MD.filter(items=['so2_Industrial','so2_Residential','SPM','NSM'])\n",
    "test = MD.filter(items=['so2_Residential'])\n",
    "print (train)\n",
    "print (test)\n",
    "x_train, x_test, y_train, y_test = train_test_split(train,test,test_size=0.20, random_state=42)\n"
   ]
  },
  {
   "cell_type": "code",
   "execution_count": 81,
   "metadata": {},
   "outputs": [],
   "source": [
    "\n",
    "#label_init=LabelEncoder().fit(train.so2_Industrial) \n",
    "#labels = label_init.transform(train.so2_Industrial)           # encode species strings\n",
    "#classes = list(label_init.classes_)                    # save column names for submission\n",
    "#test_ids = test.sampling_date                             # save test ids for submission\n",
    "  \n",
    "#train = train.drop(['sampling_date', 'so2_Industrial'], axis=1)  \n",
    "#test = test.drop(['sampling_date'], axis=1)\n",
    "\n",
    "#labelsplit = StratifiedShuffleSplit(labels, 10, test_size=0.33, random_state=42)\n",
    "#test.reshape(309, 42)\n",
    "\n",
    "\n",
    "#x_train, x_test, y_train, y_test = train_test_split(train,test,test_size=0.20, random_state=42)\n",
    "\n",
    "\n",
    "#for tr_i, te_i in labelsplit:\n",
    "#    x_train1, x_test1 = train.values[tr_i], train.values[te_i]\n",
    "#    y_train1, y_test1 = labels[tr_i], labels[te_i]\n",
    "\n",
    "#print (x_train)\n",
    "#print (y_train)"
   ]
  },
  {
   "cell_type": "code",
   "execution_count": 65,
   "metadata": {},
   "outputs": [
    {
     "name": "stderr",
     "output_type": "stream",
     "text": [
      "C:\\Users\\Ajay\\Anaconda3\\lib\\site-packages\\sklearn\\utils\\validation.py:578: DataConversionWarning: A column-vector y was passed when a 1d array was expected. Please change the shape of y to (n_samples, ), for example using ravel().\n",
      "  y = column_or_1d(y, warn=True)\n"
     ]
    },
    {
     "data": {
      "text/plain": [
       "LogisticRegression(C=1.0, class_weight=None, dual=False, fit_intercept=True,\n",
       "          intercept_scaling=1, max_iter=100, multi_class='ovr', n_jobs=1,\n",
       "          penalty='l2', random_state=None, solver='liblinear', tol=0.0001,\n",
       "          verbose=0, warm_start=False)"
      ]
     },
     "execution_count": 65,
     "metadata": {},
     "output_type": "execute_result"
    }
   ],
   "source": [
    "Classifierlr = LogisticRegression()\n",
    "#(solver = 'newton-cg',penalty='l2',multi_class='ovr',C=0, max_iter= 1000, random_state = 0)\n",
    "Classifierlr.fit(x_train, y_train)\n"
   ]
  },
  {
   "cell_type": "code",
   "execution_count": 66,
   "metadata": {},
   "outputs": [
    {
     "name": "stdout",
     "output_type": "stream",
     "text": [
      "0.6666666666666666\n",
      "     so2_Residential\n",
      "151                3\n",
      "2                 12\n",
      "124                2\n",
      "45                 4\n",
      "42                 2\n",
      "69                 4\n",
      "90                 4\n",
      "26                 2\n",
      "140                2\n",
      "82                 4\n",
      "96                 4\n",
      "132                2\n",
      "36                 6\n",
      "81                 4\n",
      "22                23\n",
      "145               11\n",
      "67                 2\n",
      "115                4\n",
      "11                 5\n",
      "65                 7\n",
      "85                 7\n",
      "6                  4\n",
      "27                 4\n",
      "76                 4\n",
      "141                3\n",
      "127                3\n",
      "41                 4\n",
      "4                  8\n",
      "137                4\n",
      "32                 4\n",
      "..               ...\n",
      "63                 2\n",
      "54                 3\n",
      "107                8\n",
      "50                 5\n",
      "159                4\n",
      "58                 5\n",
      "48                 2\n",
      "88                 4\n",
      "21                 4\n",
      "57                 3\n",
      "156                2\n",
      "129                2\n",
      "37                 3\n",
      "152                2\n",
      "1                 12\n",
      "52                 4\n",
      "130                4\n",
      "103                2\n",
      "99                 4\n",
      "116                2\n",
      "87                 4\n",
      "74                 3\n",
      "121                7\n",
      "161                4\n",
      "20                 3\n",
      "71                 2\n",
      "106                4\n",
      "14                 2\n",
      "92                 4\n",
      "102                2\n",
      "\n",
      "[129 rows x 1 columns]\n",
      "[ 4  4  2  4  2  2  4  2  2  4  4  2  4  4 23  4  2  4  4  4  4  4  4  4\n",
      "  2  4  4  4  4  4  4  4  4  2  2  2  4  4  2  4  4  4  2  4  2  4  7  2\n",
      "  4  4  2  2  4  2  4  4  2  4  4  2  4  4  2  4  2  2  4  2  2  2  2  2\n",
      "  4  4  4  4  4  4  4  2  4  4  4  4  4  4  2  4  2  4  4  2  4  4  4  4\n",
      "  2  2  4  2  4  4  4  4  4  2  4  4  4  2  2  4  2  7  4  4  2  4  2  4\n",
      "  4  4  4  2  2  4  2  4  2]\n"
     ]
    }
   ],
   "source": [
    "#Prediction and Accuracy for Logistic Regression model on test dataset\n",
    "y_predlr = Classifierlr.predict(x_test) \n",
    "accuracy_score(y_test, y_predlr)\n",
    "\n",
    "#Prediction and Accuracy for Logistic Regression model on training dataset\n",
    "y_predtr = Classifierlr.predict(x_train)\n",
    "print (accuracy_score(y_train, y_predtr))\n",
    "print (y_train)\n",
    "print (y_predtr)"
   ]
  },
  {
   "cell_type": "code",
   "execution_count": 67,
   "metadata": {},
   "outputs": [
    {
     "name": "stdout",
     "output_type": "stream",
     "text": [
      "precision: 0.2733333333333334\n",
      "recall: 0.3333333333333333\n",
      "fscore: 0.29674796747967475\n",
      "support: None\n"
     ]
    },
    {
     "name": "stderr",
     "output_type": "stream",
     "text": [
      "C:\\Users\\Ajay\\Anaconda3\\lib\\site-packages\\sklearn\\metrics\\classification.py:1135: UndefinedMetricWarning: Precision and F-score are ill-defined and being set to 0.0 in labels with no predicted samples.\n",
      "  'precision', 'predicted', average, warn_for)\n"
     ]
    }
   ],
   "source": [
    "precision, recall, fscore, support = score(y_test, y_predlr, average = 'macro')\n",
    "print('precision: {}'.format(precision))\n",
    "print('recall: {}'.format(recall))\n",
    "print('fscore: {}'.format(fscore))\n",
    "print('support: {}'.format(support))"
   ]
  },
  {
   "cell_type": "code",
   "execution_count": 68,
   "metadata": {},
   "outputs": [
    {
     "name": "stdout",
     "output_type": "stream",
     "text": [
      "precision: 0.7142857142857143\n",
      "recall: 0.7142857142857143\n",
      "fscore: 0.7142857142857143\n",
      "support: None\n"
     ]
    },
    {
     "name": "stderr",
     "output_type": "stream",
     "text": [
      "C:\\Users\\Ajay\\Anaconda3\\lib\\site-packages\\sklearn\\metrics\\classification.py:1135: UndefinedMetricWarning: Precision and F-score are ill-defined and being set to 0.0 in labels with no predicted samples.\n",
      "  'precision', 'predicted', average, warn_for)\n",
      "C:\\Users\\Ajay\\Anaconda3\\lib\\site-packages\\sklearn\\metrics\\classification.py:1137: UndefinedMetricWarning: Recall and F-score are ill-defined and being set to 0.0 in labels with no true samples.\n",
      "  'recall', 'true', average, warn_for)\n"
     ]
    }
   ],
   "source": [
    "#DECISION TREE CLASSIFICATION MODEL\n",
    "#Implementing Decision Tree model\n",
    "Classifierdt = DecisionTreeClassifier()\n",
    "Classifierdt.fit(x_train, y_train)\n",
    "\n",
    "#Prediction and Accuracy for Decision Tree model using test dataset\n",
    "y_preddt = Classifierdt.predict(x_test)\n",
    "accuracy_score(y_test, y_preddt)\n",
    "\n",
    "#Prediction and Accuracy for Decision Tree model using training dataset\n",
    "y_preddtt = Classifierdt.predict(x_train)\n",
    "accuracy_score(y_train, y_preddtt)\n",
    "\n",
    "#Evaluation metrics for Decision Tree model\n",
    "precision, recall, fscore, support = score(y_test, y_preddt,average = 'macro')\n",
    "print('precision: {}'.format(precision))\n",
    "print('recall: {}'.format(recall))\n",
    "print('fscore: {}'.format(fscore))\n",
    "print('support: {}'.format(support))\n",
    "\n",
    "#Confusion matrix for Decision Tree model\n",
    "cmdt = confusion_matrix(y_test, y_preddt)"
   ]
  },
  {
   "cell_type": "code",
   "execution_count": 69,
   "metadata": {},
   "outputs": [
    {
     "name": "stdout",
     "output_type": "stream",
     "text": [
      "precision: 0.12037037037037036\n",
      "recall: 0.16666666666666666\n",
      "fscore: 0.13921568627450978\n",
      "support: None\n"
     ]
    },
    {
     "name": "stderr",
     "output_type": "stream",
     "text": [
      "C:\\Users\\Ajay\\Anaconda3\\lib\\site-packages\\sklearn\\utils\\validation.py:578: DataConversionWarning: A column-vector y was passed when a 1d array was expected. Please change the shape of y to (n_samples, ), for example using ravel().\n",
      "  y = column_or_1d(y, warn=True)\n",
      "C:\\Users\\Ajay\\Anaconda3\\lib\\site-packages\\sklearn\\metrics\\classification.py:1135: UndefinedMetricWarning: Precision and F-score are ill-defined and being set to 0.0 in labels with no predicted samples.\n",
      "  'precision', 'predicted', average, warn_for)\n"
     ]
    }
   ],
   "source": [
    "\"\"\"\n",
    "SUPPORT VECTOR MACHINES MODEL (SVM\n",
    "\"\"\"\n",
    "#Implementing SVM model\n",
    "Classifiersvm = SVC(C= 1, gamma= 0.05, max_iter =1000, kernel='rbf', random_state = 1 )\n",
    "Classifiersvm.fit(x_train, y_train)\n",
    "\n",
    "#Grid Search for parameters for SVM model\n",
    "\"\"\"\n",
    "from sklearn.model_selection import GridSearchCV\n",
    "parameters = ({'kernel':['linear'], 'C':[1,2,3,4,5,6,10,100,1000]}, {'kernel':['rbf'],'C':[1,2,3,4,5,6,7,8,9,11,12,13,14,15,10,100],'gamma':[0.04,0.05,0.06,0.07,0.03,0.02,0.01,0.6,1,2]})\n",
    "gridsearch = GridSearchCV( estimator = Classifiersvm, param_grid = parameters, scoring = 'accuracy', cv = 10)\n",
    "gridsearch = gridsearch.fit(x_train, y_train)\n",
    "bestacc = gridsearch.best_score_\n",
    "bestpara = gridsearch.best_params_\n",
    "\"\"\"\n",
    "\n",
    "#Prediction and Accuracy for SVM model using test dataset \n",
    "y_predsv = Classifiersvm.predict(x_test)\n",
    "accuracy_score(y_test, y_predsv)\n",
    "\n",
    "#Prediction and Accuracy for SVM model using training dataset\n",
    "y_predsvt = Classifiersvm.predict(x_train)\n",
    "accuracy_score(y_train, y_predsvt)\n",
    "\n",
    "#Evaluation metrics for SVM model\n",
    "precision, recall, fscore, support = score(y_test, y_predsv,average = 'macro')\n",
    "print('precision: {}'.format(precision))\n",
    "print('recall: {}'.format(recall))\n",
    "print('fscore: {}'.format(fscore))\n",
    "print('support: {}'.format(support))\n",
    "\n",
    "#Confusion Matrix for SVM model\n",
    "cmsvm = confusion_matrix(y_test, y_predsv)"
   ]
  },
  {
   "cell_type": "code",
   "execution_count": 70,
   "metadata": {},
   "outputs": [
    {
     "name": "stdout",
     "output_type": "stream",
     "text": [
      "precision: 0.7142857142857143\n",
      "recall: 0.7142857142857143\n",
      "fscore: 0.7142857142857143\n",
      "support: None\n"
     ]
    },
    {
     "name": "stderr",
     "output_type": "stream",
     "text": [
      "C:\\Users\\Ajay\\Anaconda3\\lib\\site-packages\\sklearn\\utils\\validation.py:578: DataConversionWarning: A column-vector y was passed when a 1d array was expected. Please change the shape of y to (n_samples, ), for example using ravel().\n",
      "  y = column_or_1d(y, warn=True)\n",
      "C:\\Users\\Ajay\\Anaconda3\\lib\\site-packages\\sklearn\\metrics\\classification.py:1135: UndefinedMetricWarning: Precision and F-score are ill-defined and being set to 0.0 in labels with no predicted samples.\n",
      "  'precision', 'predicted', average, warn_for)\n",
      "C:\\Users\\Ajay\\Anaconda3\\lib\\site-packages\\sklearn\\metrics\\classification.py:1137: UndefinedMetricWarning: Recall and F-score are ill-defined and being set to 0.0 in labels with no true samples.\n",
      "  'recall', 'true', average, warn_for)\n"
     ]
    }
   ],
   "source": [
    "\"\"\"\n",
    "NAIVE BAYES MODEL\n",
    "\"\"\"\n",
    "#Implementing Naive Bayes model\n",
    "Classifiernb = GaussianNB()\n",
    "Classifiernb.fit(x_train, y_train)\n",
    "\n",
    "#Prediction and Accuracy for Naive Bayes model using test dataset\n",
    "y_prednb = Classifiernb.predict(x_test)\n",
    "accuracy_score(y_test, y_prednb)\n",
    "\n",
    "#Prediction and Accuracy for Naive Bayes model using training dataset\n",
    "y_prednbt = Classifiernb.predict(x_train)\n",
    "accuracy_score(y_train, y_prednbt)\n",
    "\n",
    "#Evaluation metrics for Naive Bayes model\n",
    "precision, recall, fscore, support = score(y_test, y_prednb,average = 'macro')\n",
    "print('precision: {}'.format(precision))\n",
    "print('recall: {}'.format(recall))\n",
    "print('fscore: {}'.format(fscore))\n",
    "print('support: {}'.format(support))\n",
    "\n",
    "#Confusion matrix for Naive Bayes model\n",
    "cmnb = confusion_matrix(y_test, y_prednb)"
   ]
  },
  {
   "cell_type": "code",
   "execution_count": 71,
   "metadata": {},
   "outputs": [
    {
     "name": "stdout",
     "output_type": "stream",
     "text": [
      "precision: 0.6666666666666667\n",
      "recall: 0.6666666666666667\n",
      "fscore: 0.6666666666666667\n",
      "support: None\n"
     ]
    },
    {
     "name": "stderr",
     "output_type": "stream",
     "text": [
      "C:\\Users\\Ajay\\Anaconda3\\lib\\site-packages\\ipykernel_launcher.py:7: DataConversionWarning: A column-vector y was passed when a 1d array was expected. Please change the shape of y to (n_samples,), for example using ravel().\n",
      "  import sys\n",
      "C:\\Users\\Ajay\\Anaconda3\\lib\\site-packages\\sklearn\\metrics\\classification.py:1135: UndefinedMetricWarning: Precision and F-score are ill-defined and being set to 0.0 in labels with no predicted samples.\n",
      "  'precision', 'predicted', average, warn_for)\n",
      "C:\\Users\\Ajay\\Anaconda3\\lib\\site-packages\\sklearn\\metrics\\classification.py:1137: UndefinedMetricWarning: Recall and F-score are ill-defined and being set to 0.0 in labels with no true samples.\n",
      "  'recall', 'true', average, warn_for)\n"
     ]
    }
   ],
   "source": [
    "\n",
    "\"\"\"\n",
    "RANDOM FOREST MODEL\n",
    "\"\"\"\n",
    "#Implementing Random Forest model\n",
    "Classifierrf = RandomForestClassifier()\n",
    "Classifierrf.fit(x_train, y_train)\n",
    "\n",
    "#Prediction and Accuracy for Random Forest model using test dataset\n",
    "y_predrf = Classifierrf.predict(x_test)\n",
    "accuracy_score(y_test, y_predrf)\n",
    "\n",
    "#Prediction and Accuracy for Random Forest model using training dataset\n",
    "y_predrft = Classifierrf.predict(x_train)\n",
    "accuracy_score(y_train, y_predrft)\n",
    "\n",
    "#Evaluation metrics for Random Forest model\n",
    "precision, recall, fscore, support = score(y_test, y_predrf,average = 'macro')\n",
    "print('precision: {}'.format(precision))\n",
    "print('recall: {}'.format(recall))\n",
    "print('fscore: {}'.format(fscore))\n",
    "print('support: {}'.format(support))\n",
    "\n",
    "#Confusion matrix for Random Forest model\n",
    "cmdt = confusion_matrix(y_test, y_predrf)"
   ]
  },
  {
   "cell_type": "code",
   "execution_count": 78,
   "metadata": {},
   "outputs": [
    {
     "name": "stdout",
     "output_type": "stream",
     "text": [
      "precision: 0.7142857142857143\n",
      "recall: 0.7142857142857143\n",
      "fscore: 0.7142857142857143\n",
      "support: None\n",
      "[0.88888889 0.84848485 0.96875    1.        ]\n",
      "0.9265309343434344\n",
      "0.06059758290808714\n"
     ]
    },
    {
     "name": "stderr",
     "output_type": "stream",
     "text": [
      "C:\\Users\\Ajay\\Anaconda3\\lib\\site-packages\\sklearn\\preprocessing\\label.py:95: DataConversionWarning: A column-vector y was passed when a 1d array was expected. Please change the shape of y to (n_samples, ), for example using ravel().\n",
      "  y = column_or_1d(y, warn=True)\n",
      "C:\\Users\\Ajay\\Anaconda3\\lib\\site-packages\\sklearn\\preprocessing\\label.py:128: DataConversionWarning: A column-vector y was passed when a 1d array was expected. Please change the shape of y to (n_samples, ), for example using ravel().\n",
      "  y = column_or_1d(y, warn=True)\n",
      "C:\\Users\\Ajay\\Anaconda3\\lib\\site-packages\\sklearn\\preprocessing\\label.py:151: DeprecationWarning: The truth value of an empty array is ambiguous. Returning False, but in future this will result in an error. Use `array.size > 0` to check that an array is not empty.\n",
      "  if diff:\n",
      "C:\\Users\\Ajay\\Anaconda3\\lib\\site-packages\\sklearn\\preprocessing\\label.py:151: DeprecationWarning: The truth value of an empty array is ambiguous. Returning False, but in future this will result in an error. Use `array.size > 0` to check that an array is not empty.\n",
      "  if diff:\n",
      "C:\\Users\\Ajay\\Anaconda3\\lib\\site-packages\\sklearn\\metrics\\classification.py:1135: UndefinedMetricWarning: Precision and F-score are ill-defined and being set to 0.0 in labels with no predicted samples.\n",
      "  'precision', 'predicted', average, warn_for)\n",
      "C:\\Users\\Ajay\\Anaconda3\\lib\\site-packages\\sklearn\\metrics\\classification.py:1137: UndefinedMetricWarning: Recall and F-score are ill-defined and being set to 0.0 in labels with no true samples.\n",
      "  'recall', 'true', average, warn_for)\n",
      "C:\\Users\\Ajay\\Anaconda3\\lib\\site-packages\\sklearn\\model_selection\\_split.py:605: Warning: The least populated class in y has only 1 members, which is too few. The minimum number of members in any class cannot be less than n_splits=4.\n",
      "  % (min_groups, self.n_splits)), Warning)\n",
      "C:\\Users\\Ajay\\Anaconda3\\lib\\site-packages\\sklearn\\preprocessing\\label.py:95: DataConversionWarning: A column-vector y was passed when a 1d array was expected. Please change the shape of y to (n_samples, ), for example using ravel().\n",
      "  y = column_or_1d(y, warn=True)\n",
      "C:\\Users\\Ajay\\Anaconda3\\lib\\site-packages\\sklearn\\preprocessing\\label.py:128: DataConversionWarning: A column-vector y was passed when a 1d array was expected. Please change the shape of y to (n_samples, ), for example using ravel().\n",
      "  y = column_or_1d(y, warn=True)\n",
      "C:\\Users\\Ajay\\Anaconda3\\lib\\site-packages\\sklearn\\preprocessing\\label.py:151: DeprecationWarning: The truth value of an empty array is ambiguous. Returning False, but in future this will result in an error. Use `array.size > 0` to check that an array is not empty.\n",
      "  if diff:\n",
      "C:\\Users\\Ajay\\Anaconda3\\lib\\site-packages\\sklearn\\preprocessing\\label.py:95: DataConversionWarning: A column-vector y was passed when a 1d array was expected. Please change the shape of y to (n_samples, ), for example using ravel().\n",
      "  y = column_or_1d(y, warn=True)\n",
      "C:\\Users\\Ajay\\Anaconda3\\lib\\site-packages\\sklearn\\preprocessing\\label.py:128: DataConversionWarning: A column-vector y was passed when a 1d array was expected. Please change the shape of y to (n_samples, ), for example using ravel().\n",
      "  y = column_or_1d(y, warn=True)\n",
      "C:\\Users\\Ajay\\Anaconda3\\lib\\site-packages\\sklearn\\preprocessing\\label.py:151: DeprecationWarning: The truth value of an empty array is ambiguous. Returning False, but in future this will result in an error. Use `array.size > 0` to check that an array is not empty.\n",
      "  if diff:\n",
      "C:\\Users\\Ajay\\Anaconda3\\lib\\site-packages\\sklearn\\preprocessing\\label.py:95: DataConversionWarning: A column-vector y was passed when a 1d array was expected. Please change the shape of y to (n_samples, ), for example using ravel().\n",
      "  y = column_or_1d(y, warn=True)\n",
      "C:\\Users\\Ajay\\Anaconda3\\lib\\site-packages\\sklearn\\preprocessing\\label.py:128: DataConversionWarning: A column-vector y was passed when a 1d array was expected. Please change the shape of y to (n_samples, ), for example using ravel().\n",
      "  y = column_or_1d(y, warn=True)\n",
      "C:\\Users\\Ajay\\Anaconda3\\lib\\site-packages\\sklearn\\preprocessing\\label.py:151: DeprecationWarning: The truth value of an empty array is ambiguous. Returning False, but in future this will result in an error. Use `array.size > 0` to check that an array is not empty.\n",
      "  if diff:\n",
      "C:\\Users\\Ajay\\Anaconda3\\lib\\site-packages\\sklearn\\preprocessing\\label.py:95: DataConversionWarning: A column-vector y was passed when a 1d array was expected. Please change the shape of y to (n_samples, ), for example using ravel().\n",
      "  y = column_or_1d(y, warn=True)\n",
      "C:\\Users\\Ajay\\Anaconda3\\lib\\site-packages\\sklearn\\preprocessing\\label.py:128: DataConversionWarning: A column-vector y was passed when a 1d array was expected. Please change the shape of y to (n_samples, ), for example using ravel().\n",
      "  y = column_or_1d(y, warn=True)\n",
      "C:\\Users\\Ajay\\Anaconda3\\lib\\site-packages\\sklearn\\preprocessing\\label.py:151: DeprecationWarning: The truth value of an empty array is ambiguous. Returning False, but in future this will result in an error. Use `array.size > 0` to check that an array is not empty.\n",
      "  if diff:\n"
     ]
    }
   ],
   "source": [
    "\"\"\"\n",
    "ENSEMBLE APPROACH USING VOTING CLASSIFIER\n",
    "\"\"\"\n",
    "#Implementing Ensemble model using Voting classifier\n",
    "ensemble = VotingClassifier(estimators=[('rf',Classifierrf),('dt',Classifierdt),('lr', Classifierlr), ('gnb', Classifiernb)], voting='hard')\n",
    "ensemble = ensemble.fit(x_train, y_train)\n",
    "\n",
    "#Prediction and Accuracy for Ensemble model using test dataset\n",
    "y_predensemble = ensemble.predict(x_test)\n",
    "accuracy_score(y_test, y_predensemble)\n",
    "\n",
    "#Prediction and Accuracy for Ensemble model using training dataset\n",
    "y_predensemblet = ensemble.predict(x_train)\n",
    "accuracy_score(y_train, y_predensemblet)\n",
    "\n",
    "#Evaluation metrics for Ensemble model\n",
    "precision, recall, fscore, support = score(y_test, y_predensemble,average = 'macro')\n",
    "print('precision: {}'.format(precision))\n",
    "print('recall: {}'.format(recall))\n",
    "print('fscore: {}'.format(fscore))\n",
    "print('support: {}'.format(support))\n",
    "\n",
    "#Confusion matrix for Ensemble model\n",
    "cm_en = confusion_matrix(y_test, y_predensemble)\n",
    "\n",
    "#Applying K fold for validation\n",
    "folds = cross_val_score(ensemble, x_train, y_train, cv=4)\n",
    "print(folds)\n",
    "print (folds.mean())\n",
    "\n",
    "print (folds.std())\n"
   ]
  },
  {
   "cell_type": "code",
   "execution_count": 75,
   "metadata": {
    "scrolled": true
   },
   "outputs": [
    {
     "name": "stdout",
     "output_type": "stream",
     "text": [
      "GradientBoostingClassifier(criterion='friedman_mse', init=None,\n",
      "              learning_rate=0.1, loss='deviance', max_depth=3,\n",
      "              max_features=None, max_leaf_nodes=None,\n",
      "              min_impurity_decrease=0.0, min_impurity_split=None,\n",
      "              min_samples_leaf=1, min_samples_split=2,\n",
      "              min_weight_fraction_leaf=0.0, n_estimators=100,\n",
      "              presort='auto', random_state=None, subsample=1.0, verbose=0,\n",
      "              warm_start=False)\n"
     ]
    },
    {
     "name": "stderr",
     "output_type": "stream",
     "text": [
      "C:\\Users\\Ajay\\Anaconda3\\lib\\site-packages\\sklearn\\utils\\validation.py:578: DataConversionWarning: A column-vector y was passed when a 1d array was expected. Please change the shape of y to (n_samples, ), for example using ravel().\n",
      "  y = column_or_1d(y, warn=True)\n"
     ]
    },
    {
     "name": "stdout",
     "output_type": "stream",
     "text": [
      "Accuracy: 96.9697%\n",
      "precision: 0.6666666666666667\n",
      "recall: 0.6666666666666667\n",
      "fscore: 0.6666666666666667\n",
      "support: None\n",
      "GaussianNB(priors=None)\n",
      "Accuracy: 96.9697%\n",
      "precision: 0.6666666666666667\n",
      "recall: 0.6666666666666667\n",
      "fscore: 0.6666666666666667\n",
      "support: None\n",
      "LinearDiscriminantAnalysis(n_components=None, priors=None, shrinkage=None,\n",
      "              solver='svd', store_covariance=False, tol=0.0001)\n",
      "Accuracy: 42.4242%\n",
      "precision: 0.6666666666666667\n",
      "recall: 0.6666666666666667\n",
      "fscore: 0.6666666666666667\n",
      "support: None\n"
     ]
    },
    {
     "name": "stderr",
     "output_type": "stream",
     "text": [
      "C:\\Users\\Ajay\\Anaconda3\\lib\\site-packages\\sklearn\\metrics\\classification.py:1135: UndefinedMetricWarning: Precision and F-score are ill-defined and being set to 0.0 in labels with no predicted samples.\n",
      "  'precision', 'predicted', average, warn_for)\n",
      "C:\\Users\\Ajay\\Anaconda3\\lib\\site-packages\\sklearn\\metrics\\classification.py:1137: UndefinedMetricWarning: Recall and F-score are ill-defined and being set to 0.0 in labels with no true samples.\n",
      "  'recall', 'true', average, warn_for)\n",
      "C:\\Users\\Ajay\\Anaconda3\\lib\\site-packages\\sklearn\\utils\\validation.py:578: DataConversionWarning: A column-vector y was passed when a 1d array was expected. Please change the shape of y to (n_samples, ), for example using ravel().\n",
      "  y = column_or_1d(y, warn=True)\n",
      "C:\\Users\\Ajay\\Anaconda3\\lib\\site-packages\\sklearn\\metrics\\classification.py:1135: UndefinedMetricWarning: Precision and F-score are ill-defined and being set to 0.0 in labels with no predicted samples.\n",
      "  'precision', 'predicted', average, warn_for)\n",
      "C:\\Users\\Ajay\\Anaconda3\\lib\\site-packages\\sklearn\\metrics\\classification.py:1137: UndefinedMetricWarning: Recall and F-score are ill-defined and being set to 0.0 in labels with no true samples.\n",
      "  'recall', 'true', average, warn_for)\n",
      "C:\\Users\\Ajay\\Anaconda3\\lib\\site-packages\\sklearn\\utils\\validation.py:578: DataConversionWarning: A column-vector y was passed when a 1d array was expected. Please change the shape of y to (n_samples, ), for example using ravel().\n",
      "  y = column_or_1d(y, warn=True)\n",
      "C:\\Users\\Ajay\\Anaconda3\\lib\\site-packages\\sklearn\\discriminant_analysis.py:388: UserWarning: Variables are collinear.\n",
      "  warnings.warn(\"Variables are collinear.\")\n",
      "C:\\Users\\Ajay\\Anaconda3\\lib\\site-packages\\sklearn\\metrics\\classification.py:1135: UndefinedMetricWarning: Precision and F-score are ill-defined and being set to 0.0 in labels with no predicted samples.\n",
      "  'precision', 'predicted', average, warn_for)\n",
      "C:\\Users\\Ajay\\Anaconda3\\lib\\site-packages\\sklearn\\metrics\\classification.py:1137: UndefinedMetricWarning: Recall and F-score are ill-defined and being set to 0.0 in labels with no true samples.\n",
      "  'recall', 'true', average, warn_for)\n"
     ]
    }
   ],
   "source": [
    "from sklearn.discriminant_analysis import LinearDiscriminantAnalysis\n",
    "from sklearn.discriminant_analysis import QuadraticDiscriminantAnalysis\n",
    "from sklearn.ensemble import GradientBoostingClassifier\n",
    "from sklearn.naive_bayes import GaussianNB\n",
    "classifier = [\n",
    "    GradientBoostingClassifier(),\n",
    "    GaussianNB(),\n",
    "    LinearDiscriminantAnalysis()]\n",
    "    #QuadraticDiscriminantAnalysis()]\n",
    "\n",
    "for i in classifier:\n",
    "    \n",
    "    print (i)\n",
    "    i=i.fit(x_train,y_train)\n",
    "    train_predictions= i.predict(x_test)\n",
    "    ac=accuracy_score(y_test, train_predictions)\n",
    "    print(\"Accuracy: {:.4%}\".format(ac))\n",
    "    \n",
    "    y_pred = i.predict(x_test)\n",
    "    accuracy_score(y_test, y_pred)\n",
    "\n",
    "\n",
    "    y_predlet = i.predict(x_train)\n",
    "    accuracy_score(y_train, y_predlet)\n",
    "    \n",
    "    \n",
    "    precision, recall, fscore, support = score(y_test, y_predrf,average = 'macro')\n",
    "    print('precision: {}'.format(precision))\n",
    "    print('recall: {}'.format(recall))\n",
    "    print('fscore: {}'.format(fscore))\n",
    "    print('support: {}'.format(support))\n",
    "    \n",
    "    "
   ]
  },
  {
   "cell_type": "code",
   "execution_count": null,
   "metadata": {},
   "outputs": [],
   "source": []
  },
  {
   "cell_type": "code",
   "execution_count": null,
   "metadata": {},
   "outputs": [],
   "source": []
  }
 ],
 "metadata": {
  "kernelspec": {
   "display_name": "Python 3",
   "language": "python",
   "name": "python3"
  },
  "language_info": {
   "codemirror_mode": {
    "name": "ipython",
    "version": 3
   },
   "file_extension": ".py",
   "mimetype": "text/x-python",
   "name": "python",
   "nbconvert_exporter": "python",
   "pygments_lexer": "ipython3",
   "version": "3.5.5"
  }
 },
 "nbformat": 4,
 "nbformat_minor": 2
}
